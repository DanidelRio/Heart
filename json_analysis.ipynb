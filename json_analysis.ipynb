{
 "cells": [
  {
   "cell_type": "code",
   "execution_count": null,
   "id": "d106b303",
   "metadata": {},
   "outputs": [],
   "source": []
  },
  {
   "cell_type": "code",
   "execution_count": 29,
   "id": "b2231d76",
   "metadata": {},
   "outputs": [],
   "source": [
    "import json\n",
    "import random\n",
    "import pandas as pd\n",
    "import numpy as np\n",
    "import matplotlib.pyplot as plt"
   ]
  },
  {
   "cell_type": "code",
   "execution_count": 2,
   "id": "1fd1df50",
   "metadata": {},
   "outputs": [],
   "source": [
    "# https://hackanons.com/2020/12/python-extract-data-from-json-file.html\n",
    "def open_file(file):\n",
    "    with open(\"json_files/\"+file) as f:\n",
    "        json_data = json.load(f)\n",
    "    return json_data\n",
    "\n",
    "# print(json_data)"
   ]
  },
  {
   "cell_type": "code",
   "execution_count": 3,
   "id": "4f1c3a6c",
   "metadata": {
    "scrolled": true
   },
   "outputs": [],
   "source": [
    "# https://www.geeksforgeeks.org/python-accessing-key-value-in-dictionary/\n",
    "# print (\"Dict keys 1 are : \")\n",
    "# dict_keys1 = [k for k in json_data[0]]\n",
    "# print(dict_keys1)\n",
    "\n",
    "# values1 = [json_data[0][k] for k in json_data[0]]\n",
    "# print (\"Dict keys 2 are : \")\n",
    "# dict_keys2 = [k for k in values1[1]]\n",
    "# print(dict_keys2)\n",
    "\n",
    "# print (\"Values are : \")\n",
    "# values2 = [values1[1][k] for k in values1[1]]\n",
    "# print(values2)\n",
    "\n",
    "# # And then we are interested in values2[0]\n",
    "\n",
    "# heart_rate = np.zeros(len(json_data))\n",
    "\n",
    "# for i in range(len(json_data)):\n",
    "#     values1 = [json_data[i][k] for k in json_data[i]]\n",
    "#     values2 = [values1[1][k] for k in values1[1]]\n",
    "#     heart_rate[i] = values2[0]"
   ]
  },
  {
   "cell_type": "code",
   "execution_count": 4,
   "id": "3d259a3c",
   "metadata": {},
   "outputs": [],
   "source": [
    "# First approximation to obtain heart rate data\n",
    "# Note this does not consider the time axis in a consistent manner.\n",
    "\n",
    "def extract_hr(json_data):\n",
    "    heart_rate = np.zeros(len(json_data))\n",
    "\n",
    "    for i in range(len(json_data)):\n",
    "        values1 = [json_data[i][k] for k in json_data[i]]\n",
    "        values2 = [values1[1][k] for k in values1[1]]\n",
    "        heart_rate[i] = values2[0]\n",
    "        \n",
    "    return heart_rate"
   ]
  },
  {
   "cell_type": "markdown",
   "id": "f506bbe1",
   "metadata": {},
   "source": [
    "# Simple idea. Divide data in ~5s time bins, obtain average of heart rate and standard deviation. Plot this in a 2D plot. Use K-means to classify."
   ]
  },
  {
   "cell_type": "code",
   "execution_count": 5,
   "id": "2ca96bcb",
   "metadata": {},
   "outputs": [],
   "source": [
    "# Function that separates a string where the separator is\n",
    "\n",
    "# https://stackoverflow.com/questions/4697006/python-split-string-by-list-of-separators\n",
    "def split(txt, seps):\n",
    "    default_sep = seps[0]\n",
    "\n",
    "    # we skip seps[0] because that's the default separator\n",
    "    for sep in seps[1:]:\n",
    "        txt = txt.replace(sep, default_sep)\n",
    "    return [i.strip() for i in txt.split(default_sep)]"
   ]
  },
  {
   "cell_type": "code",
   "execution_count": 6,
   "id": "3cface7b",
   "metadata": {},
   "outputs": [],
   "source": [
    "# Extract different time formats arrays from json\n",
    "\n",
    "def splitting_data(json_data):\n",
    "    \n",
    "    dict_keys1 = [k for k in json_data[0]]\n",
    "    times = [json_data[k][dict_keys1[0]] for k in range(len(json_data))] # dateTime\n",
    "    \n",
    "    only_time = [split(times[k], ' ')[1] for k in range(len(times))]\n",
    "    hms = [split(only_time[k], \":\") for k in range(len(times))] #hour minute second\n",
    "\n",
    "    # The index will represent the second of the day. Total of 86 400 seconds in one day\n",
    "\n",
    "    # Converting the time to the number of second of the day\n",
    "    seconds = [int(hms[k][0])*3600 + int(hms[k][1])*60 + int(hms[k][2]) for k in range(len(hms))]\n",
    "\n",
    "    return times, only_time, hms, seconds"
   ]
  },
  {
   "cell_type": "code",
   "execution_count": 8,
   "id": "765a4046",
   "metadata": {},
   "outputs": [],
   "source": [
    "# times, only_time, hms, seconds = splitting_data(json_data)\n",
    "\n",
    "# print(times[0])\n",
    "# print(only_time[0])\n",
    "# print(hms[0])\n",
    "# print(seconds[0])"
   ]
  },
  {
   "cell_type": "code",
   "execution_count": 9,
   "id": "9d24300a",
   "metadata": {},
   "outputs": [
    {
     "ename": "NameError",
     "evalue": "name 'only_time' is not defined",
     "output_type": "error",
     "traceback": [
      "\u001b[0;31m---------------------------------------------------------------------------\u001b[0m",
      "\u001b[0;31mNameError\u001b[0m                                 Traceback (most recent call last)",
      "\u001b[0;32m/tmp/ipykernel_17826/1491051879.py\u001b[0m in \u001b[0;36m<module>\u001b[0;34m\u001b[0m\n\u001b[0;32m----> 1\u001b[0;31m \u001b[0mprint\u001b[0m\u001b[0;34m(\u001b[0m\u001b[0monly_time\u001b[0m\u001b[0;34m[\u001b[0m\u001b[0;36m7900\u001b[0m\u001b[0;34m]\u001b[0m\u001b[0;34m)\u001b[0m\u001b[0;34m\u001b[0m\u001b[0;34m\u001b[0m\u001b[0m\n\u001b[0m\u001b[1;32m      2\u001b[0m \u001b[0mprint\u001b[0m\u001b[0;34m(\u001b[0m\u001b[0mhms\u001b[0m\u001b[0;34m[\u001b[0m\u001b[0;36m7900\u001b[0m\u001b[0;34m]\u001b[0m\u001b[0;34m)\u001b[0m\u001b[0;34m\u001b[0m\u001b[0;34m\u001b[0m\u001b[0m\n\u001b[1;32m      3\u001b[0m \u001b[0mprint\u001b[0m\u001b[0;34m(\u001b[0m\u001b[0mnp\u001b[0m\u001b[0;34m.\u001b[0m\u001b[0margmin\u001b[0m\u001b[0;34m(\u001b[0m\u001b[0mseconds\u001b[0m\u001b[0;34m)\u001b[0m\u001b[0;34m)\u001b[0m\u001b[0;34m\u001b[0m\u001b[0;34m\u001b[0m\u001b[0m\n",
      "\u001b[0;31mNameError\u001b[0m: name 'only_time' is not defined"
     ]
    }
   ],
   "source": [
    "# print(only_time[7900])\n",
    "# print(hms[7900])\n",
    "# print(np.argmin(seconds))"
   ]
  },
  {
   "cell_type": "code",
   "execution_count": null,
   "id": "0f7c7f1b",
   "metadata": {},
   "outputs": [],
   "source": [
    "# print(times[7899])\n",
    "\n",
    "# print(times[7900])"
   ]
  },
  {
   "cell_type": "markdown",
   "id": "90c10ca7",
   "metadata": {},
   "source": [
    "Good to know, we are handling data from two days. Not everything in this file corresponds to the day 8/31/2021"
   ]
  },
  {
   "cell_type": "code",
   "execution_count": 10,
   "id": "179ccf8b",
   "metadata": {},
   "outputs": [],
   "source": [
    "# First challenge, divide everything in 5min time bins, that is in 5*60 = 300 s time bins!\n",
    "def data_5s(json_data):\n",
    "    \n",
    "    times, only_time, hms, seconds = splitting_data(json_data)\n",
    "    \n",
    "    vecs_sec = []\n",
    "    vecs_indices = []\n",
    "\n",
    "    for i in range(288): # Number of 5 min periods in 24 hours\n",
    "        vec_sec = []\n",
    "        vec_indices = []\n",
    "        banner = False\n",
    "\n",
    "        for index_i in range(7900): # len(indices)\n",
    "\n",
    "            if i*300 <= seconds[index_i] and seconds[index_i] < (i+1)*300:\n",
    "                vec_sec.append(seconds[index_i])\n",
    "                vec_indices.append(index_i)\n",
    "                banner = True\n",
    "\n",
    "            elif banner == True:\n",
    "                vecs_sec.append(vec_sec)\n",
    "                vecs_indices.append(vec_indices)\n",
    "                break\n",
    "                \n",
    "    return vecs_sec, vecs_indices"
   ]
  },
  {
   "cell_type": "code",
   "execution_count": 11,
   "id": "8235ec97",
   "metadata": {},
   "outputs": [],
   "source": [
    "def obtain_time_series(file_name):\n",
    "    json_data = open_file(file_name)\n",
    "    \n",
    "    times, only_time, hms, seconds = splitting_data(json_data)\n",
    "    # Seconds has the correct x-entries for the heart rate time series\n",
    "    \n",
    "    heart_rate = np.zeros(len(json_data))\n",
    "\n",
    "    for i in range(len(json_data)):\n",
    "        values1 = [json_data[i][k] for k in json_data[i]]\n",
    "        values2 = [values1[1][k] for k in values1[1]]\n",
    "        heart_rate[i] = values2[0]\n",
    "        \n",
    "    return np.asarray(seconds), heart_rate"
   ]
  },
  {
   "cell_type": "code",
   "execution_count": 12,
   "id": "a19a01a6",
   "metadata": {},
   "outputs": [
    {
     "name": "stdout",
     "output_type": "stream",
     "text": [
      "86400\n",
      "86400\n"
     ]
    }
   ],
   "source": [
    "# Magic number, number of seconds in one day \n",
    "print(300*288)\n",
    "print(24*3600)"
   ]
  },
  {
   "cell_type": "code",
   "execution_count": 15,
   "id": "4fa8f34e",
   "metadata": {},
   "outputs": [],
   "source": [
    "# Obtain the heart rate mean of these intervals as well as their standard deviation\n",
    "\n",
    "def obtain_data(file_name):\n",
    "    json_data = open_file(file_name)\n",
    "    \n",
    "    vecs_secs, vecs_indices = data_5s(json_data)\n",
    "    \n",
    "    means  = np.zeros(len(vecs_indices))\n",
    "    stdevs = np.zeros(len(vecs_indices))\n",
    "    \n",
    "    heart_rate = np.zeros(len(json_data))\n",
    "\n",
    "    for i in range(len(json_data)):\n",
    "        values1 = [json_data[i][k] for k in json_data[i]]\n",
    "        values2 = [values1[1][k] for k in values1[1]]\n",
    "        heart_rate[i] = values2[0]\n",
    "\n",
    "    for i in range(len(vecs_indices)):\n",
    "        means[i] = np.mean(heart_rate[vecs_indices[i]]) # Wait, when did you define: heart_rate_31_8 ???\n",
    "        stdevs[i] = np.std(heart_rate[vecs_indices[i]])\n",
    "        \n",
    "    return means, stdevs"
   ]
  },
  {
   "cell_type": "code",
   "execution_count": 16,
   "id": "40d32851",
   "metadata": {},
   "outputs": [],
   "source": [
    "means_31_8, stdevs_31_8 = obtain_data(\"heart_rate-2021-08-31.json\") # means, stdevs\n",
    "means_01_9, stdevs_01_9 = obtain_data(\"heart_rate-2021-09-01.json\")\n",
    "means_02_9, stdevs_02_9 = obtain_data(\"heart_rate-2021-09-02.json\")\n",
    "\n",
    "seconds_31_8, heart_frequency_31_8 = obtain_time_series(\"heart_rate-2021-08-31.json\")\n",
    "seconds_01_9, heart_frequency_01_9 = obtain_time_series(\"heart_rate-2021-09-01.json\")\n",
    "seconds_02_9, heart_frequency_02_9 = obtain_time_series(\"heart_rate-2021-09-02.json\")"
   ]
  },
  {
   "cell_type": "markdown",
   "id": "990b9841",
   "metadata": {},
   "source": [
    "# Why is there a line that crosses from the first point to the last one?\n",
    "\n",
    "Because the time series is in that manner, when it reaches midnight, a new day starts, but the plot just starts back at 0 instead of continuing to hour 25.\n",
    "\n",
    "Maybe you could generate a big array concatenating multiple arrays. And then separating them at 10 in the morning or such. So you can also have complete sleep periods."
   ]
  },
  {
   "cell_type": "code",
   "execution_count": 17,
   "id": "79db7602",
   "metadata": {},
   "outputs": [
    {
     "data": {
      "text/plain": [
       "array([18003, 18008, 18023, ..., 17960, 17975, 17990])"
      ]
     },
     "execution_count": 17,
     "metadata": {},
     "output_type": "execute_result"
    }
   ],
   "source": [
    "seconds_31_8"
   ]
  },
  {
   "cell_type": "code",
   "execution_count": 18,
   "id": "ed403149",
   "metadata": {
    "scrolled": true
   },
   "outputs": [
    {
     "data": {
      "image/png": "[encoded data removed]",
      "text/plain": [
       "<Figure size 432x288 with 1 Axes>"
      ]
     },
     "metadata": {
      "needs_background": "light"
     },
     "output_type": "display_data"
    }
   ],
   "source": [
    "plt.plot(seconds_31_8/3600, heart_frequency_31_8, c=\"b\")\n",
    "plt.plot(seconds_01_9/3600, heart_frequency_01_9, c=\"k\")\n",
    "plt.plot(seconds_02_9/3600, heart_frequency_02_9, c=\"r\")\n",
    "plt.xlabel(\"Time [hour]\")\n",
    "plt.ylabel(\"Heart rate [bpm]\")\n",
    "plt.show()"
   ]
  },
  {
   "cell_type": "code",
   "execution_count": 19,
   "id": "2fde47ef",
   "metadata": {},
   "outputs": [
    {
     "data": {
      "image/png": "[encoded data removed]",
      "text/plain": [
       "<Figure size 432x288 with 1 Axes>"
      ]
     },
     "metadata": {
      "needs_background": "light"
     },
     "output_type": "display_data"
    }
   ],
   "source": [
    "plt.plot(heart_frequency_31_8, c=\"b\")\n",
    "plt.plot(heart_frequency_01_9, c=\"k\")\n",
    "plt.plot(heart_frequency_02_9, c=\"r\")\n",
    "plt.xlabel(\"Time [hour]\")\n",
    "plt.ylabel(\"Heart rate [bpm]\")\n",
    "plt.show()"
   ]
  },
  {
   "cell_type": "code",
   "execution_count": 20,
   "id": "7cf1894c",
   "metadata": {},
   "outputs": [],
   "source": [
    "means_31_8, stdevs_31_8 = obtain_data(\"heart_rate-2021-08-31.json\")\n",
    "means_01_9, stdevs_01_9 = obtain_data(\"heart_rate-2021-09-01.json\")\n",
    "means_02_9, stdevs_02_9 = obtain_data(\"heart_rate-2021-09-02.json\")"
   ]
  },
  {
   "cell_type": "code",
   "execution_count": 21,
   "id": "be89a03f",
   "metadata": {},
   "outputs": [
    {
     "data": {
      "image/png": "[encoded data removed]",
      "text/plain": [
       "<Figure size 432x288 with 1 Axes>"
      ]
     },
     "metadata": {
      "needs_background": "light"
     },
     "output_type": "display_data"
    }
   ],
   "source": [
    "plt.scatter(means_31_8, stdevs_31_8, c = \"b\")\n",
    "plt.scatter(means_01_9, stdevs_01_9, c=\"k\")\n",
    "plt.scatter(means_02_9, stdevs_02_9, c=\"r\")\n",
    "plt.xlabel(\"Heart rate\")\n",
    "plt.ylabel(\"Standar deviation\") # Heart rate variability\n",
    "plt.show()"
   ]
  },
  {
   "cell_type": "markdown",
   "id": "7271dea0",
   "metadata": {},
   "source": [
    "Now comes the interesting part, cluster these datapoints!\n",
    "\n",
    "Wait, before the clustering begins, I want to see how the time series looks with the correct time axis. Modify the previous functions accordingly.\n",
    "\n",
    "# Clustering with k-means\n",
    "\n",
    "The detail is that the code in HW4 is designed for minimizing the distance of a single array in 1D (voltage). In this case, you have 2D: heart rate and standard deviation. Modify the functions accordingly so to consider minimizing the distance to these 2 variables."
   ]
  },
  {
   "cell_type": "code",
   "execution_count": 22,
   "id": "91625f03",
   "metadata": {},
   "outputs": [],
   "source": [
    "def iterative_cost_function(means, stdevs, mk_means, mk_stdevs, rnks): # Cost function for 1 cluster\n",
    "    n = len(means)\n",
    "    J = 0\n",
    "    for i in range(n):\n",
    "        if rnks[i]: \n",
    "            J += np.sum((means[i]-mk_means)**2 + (stdevs[i]-mk_stdevs)**2) #Sums the cost for the 2 dimensions\n",
    "    return J\n",
    "\n",
    "\n",
    "def all_clusters_cost_function(means, stdevs, mk_means, mk_stdevs, rnks): # Cost function for all clusters\n",
    "    J = 0\n",
    "    \n",
    "    for cluster_i in range(len(mk_means)):\n",
    "        J+= iterative_cost_function(means, stdevs, mk_means[cluster_i], mk_stdevs[cluster_i], rnks[cluster_i])\n",
    "    return J"
   ]
  },
  {
   "cell_type": "code",
   "execution_count": 49,
   "id": "813351e6",
   "metadata": {},
   "outputs": [],
   "source": [
    "# Assigning a cluster based on distance between centroids and points:\n",
    "def distances(means, stdevs, mk_means, mk_stdevs):\n",
    "    number_of_clusters = len(mk_means) #3\n",
    "    number_of_datapoints = len(means) # all the datapoints\n",
    "    \n",
    "    rnks_1 = np.zeros(number_of_datapoints, dtype = bool)\n",
    "    rnks_2 = np.zeros(number_of_datapoints, dtype = bool)\n",
    "    rnks_3 = np.zeros(number_of_datapoints, dtype = bool)\n",
    "    \n",
    "    for i in range(number_of_datapoints):\n",
    "        distance = np.zeros(number_of_clusters)\n",
    "        \n",
    "        for cluster_i in range(number_of_clusters):\n",
    "            distance[cluster_i]= np.sum((means[i]-mk_means[cluster_i])**2 + (stdevs[i]-mk_stdevs[cluster_i])**2)\n",
    "            \n",
    "        minimum = np.argmin(distance) # For assigning a cluster to each datapoint\n",
    "        \n",
    "        if minimum ==0: # Belongs in cluster 1\n",
    "            rnks_1[i] = 1\n",
    "        elif minimum ==1: # Belongs in cluster 2\n",
    "            rnks_2[i] = 1\n",
    "        elif minimum ==2: # Belongs in cluster 3\n",
    "            rnks_3[i] = 1\n",
    "    return rnks_1, rnks_2, rnks_3"
   ]
  },
  {
   "cell_type": "code",
   "execution_count": 50,
   "id": "8dce0191",
   "metadata": {},
   "outputs": [],
   "source": [
    "# Trying out the distances function\n",
    "means = means_31_8\n",
    "stdevs = stdevs_31_8\n",
    "\n",
    "pool = len(means)\n",
    "mks_mean_init = [means[round(pool*random.random())], means[round(pool*random.random())],\n",
    "                 means[round(pool*random.random())]]\n",
    "mks_stdevs_init = [stdevs[round(pool*random.random())], stdevs[round(pool*random.random())],\n",
    "                   stdevs[round(pool*random.random())]]\n",
    "\n",
    "rnks_1, rnks_2, rnks_3 = distances(means, stdevs, mks_mean_init, mks_stdevs_init)"
   ]
  },
  {
   "cell_type": "code",
   "execution_count": 61,
   "id": "d3273ea9",
   "metadata": {
    "scrolled": false
   },
   "outputs": [
    {
     "data": {
      "image/png": "[encoded data removed]",
      "text/plain": [
       "<Figure size 504x504 with 3 Axes>"
      ]
     },
     "metadata": {
      "needs_background": "light"
     },
     "output_type": "display_data"
    }
   ],
   "source": [
    "fig, (ax1, ax2, ax3) = plt.subplots(3, sharex=True, sharey=True, figsize=(7,7))\n",
    "# fig.suptitle('Neuron traces based on cluster', fontsize=20)\n",
    "\n",
    "#     time = [i for i in range(40)]\n",
    "size = 5\n",
    "for i in range(len(means)):\n",
    "\n",
    "    if rnks_1[i]:\n",
    "        ax1.scatter(means[i], stdevs[i], color=\"salmon\", s=size)\n",
    "\n",
    "    elif rnks_2[i]:\n",
    "        ax2.scatter(means[i], stdevs[i], color=\"deeppink\", s=size)\n",
    "\n",
    "    elif rnks_3[i]:\n",
    "        ax3.scatter(means[i], stdevs[i], color=\"dimgrey\", s=size)\n",
    "\n",
    "ax1.scatter(mks_mean_init[0], mks_stdevs_init[0], c=\"r\")\n",
    "ax2.scatter(mks_mean_init[1], mks_stdevs_init[1], c=\"purple\")\n",
    "ax3.scatter(mks_mean_init[2], mks_stdevs_init[2], c=\"k\")\n",
    "plt.xlabel('Means')\n",
    "plt.ylabel(\"Stdev\")\n",
    "plt.show()"
   ]
  },
  {
   "cell_type": "code",
   "execution_count": null,
   "id": "c66984a3",
   "metadata": {},
   "outputs": [],
   "source": []
  },
  {
   "cell_type": "code",
   "execution_count": 62,
   "id": "5aed2c2e",
   "metadata": {},
   "outputs": [],
   "source": [
    "# Updating centroids\n",
    "def updates_centroids(means, stdevs, rnks_1, rnks_2, rnks_3):\n",
    "    c1_means = []\n",
    "    c1_stdevs = []\n",
    "    c2_means = []\n",
    "    c2_stdevs = []\n",
    "    c3_means = []\n",
    "    c3_stdevs = []\n",
    "\n",
    "    for i in range(len(means)):\n",
    "#         print(i)\n",
    "#         print(\"1 \", rnks_1)\n",
    "#         print(\"2 \", rnks_2)\n",
    "#         print(\"3 \", rnks_3)\n",
    "        \n",
    "        if rnks_1[i]:\n",
    "            c1_means.append(means[i])\n",
    "            c1_stdevs.append(stdevs[i])\n",
    "\n",
    "        elif rnks_2[i]:\n",
    "            c2_means.append(means[i])\n",
    "            c2_stdevs.append(stdevs[i])\n",
    "\n",
    "        elif rnks_3[i]:\n",
    "            c3_means.append(means[i])\n",
    "            c3_stdevs.append(stdevs[i])\n",
    "\n",
    "    mks1_mean = np.mean(c1_means, 0)\n",
    "    mks1_stdevs = np.mean(c1_stdevs, 0)\n",
    "    \n",
    "    mks2_mean = np.mean(c2_means, 0)\n",
    "    mks2_stdevs = np.mean(c2_stdevs, 0)\n",
    "    \n",
    "    mks3_mean = np.mean(c3_means, 0)\n",
    "    mks3_stdevs = np.mean(c3_stdevs, 0)\n",
    "    \n",
    "    return mks1_mean, mks1_stdevs, mks2_mean, mks2_stdevs, mks3_mean, mks3_stdevs"
   ]
  },
  {
   "cell_type": "code",
   "execution_count": 69,
   "id": "cb82a86c",
   "metadata": {},
   "outputs": [],
   "source": [
    "def one_iteration(means, stdevs, mks_mean_init, mks_stdevs_init):\n",
    "    rnks_1, rnks_2, rnks_3 = distances(means, stdevs, mks_mean_init, mks_stdevs_init)\n",
    "    mks1_mean, mks1_stdevs, mks2_mean, mks2_stdevs, mks3_mean, mks3_stdevs = updates_centroids(means, stdevs, rnks_1,\n",
    "                                                                                               rnks_2, rnks_3)\n",
    "    \n",
    "    mks1_mean, mks1_stdevs, mks2_mean, mks2_stdevs, mks3_mean, mks3_stdevs = updates_centroids(means, stdevs, rnks_1,\n",
    "                                                                                               rnks_2, rnks_3)\n",
    "    \n",
    "    mks_means = [mks1_mean, mks2_mean, mks3_mean]\n",
    "    mks_stdevs = [mks1_stdevs, mks2_stdevs, mks3_stdevs]\n",
    "    rnks = [rnks_1, rnks_2, rnks_3]\n",
    "    \n",
    "    J = all_clusters_cost_function(means, stdevs, mks_means, mks_stdevs, rnks)\n",
    "    return J, rnks, mks_means, mks_stdevs"
   ]
  },
  {
   "cell_type": "code",
   "execution_count": 76,
   "id": "0011cbfb",
   "metadata": {},
   "outputs": [
    {
     "name": "stdout",
     "output_type": "stream",
     "text": [
      "Converging value occurs in the  8 th iteration.\n",
      "Converging value occurs in the  9 th iteration.\n",
      "Converging value occurs in the  10 th iteration.\n"
     ]
    }
   ],
   "source": [
    "# Initializes with 3 random traces from the dataset\n",
    "means = means_31_8\n",
    "stdevs = stdevs_31_8\n",
    "\n",
    "pool = len(means)\n",
    "mks_mean_init = [means[round(pool*random.random())], means[round(pool*random.random())],\n",
    "                 means[round(pool*random.random())]]\n",
    "mks_stdevs_init = [stdevs[round(pool*random.random())], stdevs[round(pool*random.random())],\n",
    "                   stdevs[round(pool*random.random())]]\n",
    "\n",
    "J = []\n",
    "i = 0\n",
    "converging = False\n",
    "\n",
    "J1, rnks_1, mk_means, mk_stdevs = one_iteration(means, stdevs, mks_mean_init, mks_stdevs_init) # First iteration\n",
    "J.append(J1)\n",
    "\n",
    "# while converging == False:\n",
    "for k in range(10):\n",
    "    J1, rnks, mk_means, mk_stdevs = one_iteration(means, stdevs, mk_means, mk_stdevs)\n",
    "    J.append(J1)\n",
    "    \n",
    "    if np.abs(J[i-1]-J[i])< 0.0001*J[i]: # Finding the convergence value\n",
    "        print(\"Converging value occurs in the \", i+1, \"th iteration.\")\n",
    "        converging = True\n",
    "    i +=1"
   ]
  },
  {
   "cell_type": "code",
   "execution_count": 77,
   "id": "19c8d8bf",
   "metadata": {},
   "outputs": [
    {
     "data": {
      "text/plain": [
       "[5178.4947157710485,\n",
       " 4992.3523237952395,\n",
       " 4939.776041609703,\n",
       " 4909.844309956465,\n",
       " 4908.390299930494,\n",
       " 4905.127262070341,\n",
       " 4901.587807141588,\n",
       " 4901.587807141588,\n",
       " 4901.587807141588,\n",
       " 4901.587807141588,\n",
       " 4901.587807141588]"
      ]
     },
     "execution_count": 77,
     "metadata": {},
     "output_type": "execute_result"
    }
   ],
   "source": [
    "J"
   ]
  },
  {
   "cell_type": "code",
   "execution_count": 78,
   "id": "0114e30d",
   "metadata": {},
   "outputs": [
    {
     "data": {
      "image/png": "[encoded data removed]",
      "text/plain": [
       "<Figure size 432x288 with 1 Axes>"
      ]
     },
     "metadata": {
      "needs_background": "light"
     },
     "output_type": "display_data"
    }
   ],
   "source": [
    "max_ind = len(J)\n",
    "plt.plot([0,max_ind], [J[max_ind-1], J[max_ind-1]], label = \"Converging value\", color = \"grey\")\n",
    "plt.plot(J)\n",
    "plt.xlabel(\"Iteration number\")\n",
    "plt.ylabel(\"J\")\n",
    "plt.legend()\n",
    "plt.show()"
   ]
  },
  {
   "cell_type": "code",
   "execution_count": 83,
   "id": "2b0d5a92",
   "metadata": {},
   "outputs": [
    {
     "data": {
      "image/png": "[encoded data removed]",
      "text/plain": [
       "<Figure size 504x504 with 3 Axes>"
      ]
     },
     "metadata": {
      "needs_background": "light"
     },
     "output_type": "display_data"
    }
   ],
   "source": [
    "fig, (ax1, ax2, ax3) = plt.subplots(3, sharex=True, sharey=True, figsize=(7,7))\n",
    "# fig.suptitle('Neuron traces based on cluster', fontsize=20)\n",
    "\n",
    "#     time = [i for i in range(40)]\n",
    "size = 5\n",
    "for i in range(len(means)):\n",
    "\n",
    "    if rnks[0][i]: #mk_means, mk_stdevs\n",
    "        ax1.scatter(means[i], stdevs[i], color=\"salmon\", s=size)\n",
    "\n",
    "    elif rnks[1][i]:\n",
    "        ax2.scatter(means[i], stdevs[i], color=\"deeppink\", s=size)\n",
    "\n",
    "    elif rnks[2][i]:\n",
    "        ax3.scatter(means[i], stdevs[i], color=\"dimgrey\", s=size)\n",
    "\n",
    "ax1.scatter(mk_means[0], mk_stdevs[0], c=\"r\")\n",
    "ax2.scatter(mk_means[1], mk_stdevs[1], c=\"purple\")\n",
    "ax3.scatter(mk_means[2], mk_stdevs[2], c=\"k\")\n",
    "plt.xlabel('Means')\n",
    "plt.ylabel(\"Stdev\")\n",
    "plt.show()"
   ]
  },
  {
   "cell_type": "code",
   "execution_count": 84,
   "id": "c30a0968",
   "metadata": {},
   "outputs": [
    {
     "data": {
      "image/png": "[encoded data removed]",
      "text/plain": [
       "<Figure size 432x288 with 1 Axes>"
      ]
     },
     "metadata": {
      "needs_background": "light"
     },
     "output_type": "display_data"
    }
   ],
   "source": [
    "size = 5\n",
    "for i in range(len(means)):\n",
    "\n",
    "    if rnks[0][i]: #mk_means, mk_stdevs\n",
    "        plt.scatter(means[i], stdevs[i], color=\"salmon\", s=size)\n",
    "\n",
    "    elif rnks[1][i]:\n",
    "        plt.scatter(means[i], stdevs[i], color=\"deeppink\", s=size)\n",
    "\n",
    "    elif rnks[2][i]:\n",
    "        plt.scatter(means[i], stdevs[i], color=\"dimgrey\", s=size)\n",
    "\n",
    "plt.scatter(mk_means[0], mk_stdevs[0], c=\"r\")\n",
    "plt.scatter(mk_means[1], mk_stdevs[1], c=\"purple\")\n",
    "plt.scatter(mk_means[2], mk_stdevs[2], c=\"k\")\n",
    "plt.xlabel('Means')\n",
    "plt.ylabel(\"Stdev\")\n",
    "plt.show()"
   ]
  },
  {
   "cell_type": "code",
   "execution_count": null,
   "id": "80a5e5e3",
   "metadata": {},
   "outputs": [],
   "source": []
  },
  {
   "cell_type": "code",
   "execution_count": null,
   "id": "263523a1",
   "metadata": {},
   "outputs": [],
   "source": []
  },
  {
   "cell_type": "markdown",
   "id": "01a99f78",
   "metadata": {},
   "source": [
    "# Review and modify based on Della's comments in this NB\n",
    "\n",
    "Della:\n",
    "- Q1. (-3) Recall that you are using argmax(x[5:25]), you need to add 5 back to the argmax index when extracted peak values\n",
    "- Q4. (-5) The idea is right but you had the same mistake as Q1 so the peaks you were using are wrong.\n",
    "- Q5. b. (-2) Distance should be computed as the euclidean distance rather than L1 norm c. (-5) The datapoints at the boundary of clusters should have minimum euclidean distance to all 2/3/4 centers \n",
    "\n",
    "\n",
    "Comments about HW3:\n",
    "\n",
    "Q1. Actually I would prefer to call the 'lambda' you computed in each trial as firing rate since you haven't done any averaging across trials yet. (-1) To avoid error of log(lambda=0), replace lambda with small value like 1e-5. Setting 'log_term = -230*x_d' doesn't seem to be a good way to go. Q2. Nice figures and labeling. Don't literally need to include movement data. 2b, (-3) Lack of description and explaination on your results. Q3. (-5) Since you are randomly droping neurons, you need to randomly drop them by 20 times. Then estimate the mean and variations of decoding accuracy. You'll find your curve (decoding accuracy vs. number of dropped neurons) much smoother. \n",
    "\n",
    "Comments on HW5:\n",
    "Q1. a. (-4) sklearn PCA input data X should be of shape (n_samples, n_features). pca.explained_variance_ is the eigenvalue, not pca.singular_values_. You did it right in b and c, I am confused why you did (a) differently :0 Q2. e. (-3) For all channel data, you shouldn't truncate eigenvectors_160 while computing projections. This is why you are computing total_var_backprojection_160 wrong Q3. a. (-1) The assumed noise would draw the projected points closer to their mean b. (-5) You result didn't look right. While estimating new psi, you need to use np.diag(np.diag()) to get the diagonal of the matrix. Further, if you run the FA multiple times with different random psi initializations, you will find FA gives multiple local optimums. "
   ]
  },
  {
   "cell_type": "code",
   "execution_count": null,
   "id": "8ec621b8",
   "metadata": {},
   "outputs": [],
   "source": []
  }
 ],
 "metadata": {
  "kernelspec": {
   "display_name": "Python 3 (ipykernel)",
   "language": "python",
   "name": "python3"
  },
  "language_info": {
   "codemirror_mode": {
    "name": "ipython",
    "version": 3
   },
   "file_extension": ".py",
   "mimetype": "text/x-python",
   "name": "python",
   "nbconvert_exporter": "python",
   "pygments_lexer": "ipython3",
   "version": "3.8.8"
  }
 },
 "nbformat": 4,
 "nbformat_minor": 5
}
