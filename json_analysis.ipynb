{
 "cells": [
  {
   "cell_type": "code",
   "execution_count": null,
   "id": "d106b303",
   "metadata": {},
   "outputs": [],
   "source": []
  },
  {
   "cell_type": "code",
   "execution_count": 1,
   "id": "b2231d76",
   "metadata": {},
   "outputs": [],
   "source": [
    "import json\n",
    "import pandas as pd\n",
    "import numpy as np\n",
    "import matplotlib.pyplot as plt"
   ]
  },
  {
   "cell_type": "code",
   "execution_count": 32,
   "id": "1fd1df50",
   "metadata": {},
   "outputs": [],
   "source": [
    "# https://hackanons.com/2020/12/python-extract-data-from-json-file.html\n",
    "def open_file(file):\n",
    "    with open(\"json_files/\"+file) as f:\n",
    "        json_data = json.load(f)\n",
    "    return json_data\n",
    "\n",
    "# print(json_data)"
   ]
  },
  {
   "cell_type": "code",
   "execution_count": 3,
   "id": "4f1c3a6c",
   "metadata": {
    "scrolled": true
   },
   "outputs": [
    {
     "name": "stdout",
     "output_type": "stream",
     "text": [
      "Dict keys 1 are : \n",
      "['dateTime', 'value']\n",
      "Dict keys 2 are : \n",
      "['bpm', 'confidence']\n",
      "Values are : \n",
      "[61, 3]\n"
     ]
    }
   ],
   "source": [
    "# https://www.geeksforgeeks.org/python-accessing-key-value-in-dictionary/\n",
    "print (\"Dict keys 1 are : \")\n",
    "dict_keys1 = [k for k in json_data[0]]\n",
    "print(dict_keys1)\n",
    "\n",
    "values1 = [json_data[0][k] for k in json_data[0]]\n",
    "print (\"Dict keys 2 are : \")\n",
    "dict_keys2 = [k for k in values1[1]]\n",
    "print(dict_keys2)\n",
    "\n",
    "print (\"Values are : \")\n",
    "values2 = [values1[1][k] for k in values1[1]]\n",
    "print(values2)\n",
    "\n",
    "# And then we are interested in values2[0]\n",
    "\n",
    "heart_rate = np.zeros(len(json_data))\n",
    "\n",
    "for i in range(len(json_data)):\n",
    "    values1 = [json_data[i][k] for k in json_data[i]]\n",
    "    values2 = [values1[1][k] for k in values1[1]]\n",
    "    heart_rate[i] = values2[0]"
   ]
  },
  {
   "cell_type": "code",
   "execution_count": 6,
   "id": "3d259a3c",
   "metadata": {},
   "outputs": [],
   "source": [
    "# First approximation to obtain heart rate data\n",
    "# Note this does not consider the time axis in a consistent manner.\n",
    "\n",
    "def extract_hr(json_data):\n",
    "    heart_rate = np.zeros(len(json_data))\n",
    "\n",
    "    for i in range(len(json_data)):\n",
    "        values1 = [json_data[i][k] for k in json_data[i]]\n",
    "        values2 = [values1[1][k] for k in values1[1]]\n",
    "        heart_rate[i] = values2[0]\n",
    "        \n",
    "    return heart_rate"
   ]
  },
  {
   "cell_type": "markdown",
   "id": "f506bbe1",
   "metadata": {},
   "source": [
    "# Simple idea. Divide data in ~5s time bins, obtain average of heart rate and standard deviation. Plot this in a 2D plot. Use K-means to classify."
   ]
  },
  {
   "cell_type": "code",
   "execution_count": 7,
   "id": "2ca96bcb",
   "metadata": {},
   "outputs": [],
   "source": [
    "# Function that separates a string where the separator is\n",
    "\n",
    "# https://stackoverflow.com/questions/4697006/python-split-string-by-list-of-separators\n",
    "def split(txt, seps):\n",
    "    default_sep = seps[0]\n",
    "\n",
    "    # we skip seps[0] because that's the default separator\n",
    "    for sep in seps[1:]:\n",
    "        txt = txt.replace(sep, default_sep)\n",
    "    return [i.strip() for i in txt.split(default_sep)]"
   ]
  },
  {
   "cell_type": "code",
   "execution_count": 8,
   "id": "3cface7b",
   "metadata": {},
   "outputs": [],
   "source": [
    "# Extract different time formats arrays from json\n",
    "\n",
    "def splitting_data(json_data):\n",
    "    \n",
    "    dict_keys1 = [k for k in json_data[0]]\n",
    "    times = [json_data[k][dict_keys1[0]] for k in range(len(json_data))] # dateTime\n",
    "    \n",
    "    only_time = [split(times[k], ' ')[1] for k in range(len(times))]\n",
    "    hms = [split(only_time[k], \":\") for k in range(len(times))] #hour minute second\n",
    "\n",
    "    # The index will represent the second of the day. Total of 86 400 seconds in one day\n",
    "\n",
    "    # Converting the time to the number of second of the day\n",
    "    seconds = [int(hms[k][0])*3600 + int(hms[k][1])*60 + int(hms[k][2]) for k in range(len(hms))]\n",
    "\n",
    "    return times, only_time, hms, seconds"
   ]
  },
  {
   "cell_type": "code",
   "execution_count": 9,
   "id": "51c7515a",
   "metadata": {},
   "outputs": [
    {
     "name": "stdout",
     "output_type": "stream",
     "text": [
      "08/31/21 05:00:03\n",
      "05:00:03\n",
      "['05', '00', '03']\n",
      "18003\n"
     ]
    }
   ],
   "source": [
    "times, only_time, hms, seconds = splitting_data(json_data)\n",
    "\n",
    "print(times[0])\n",
    "print(only_time[0])\n",
    "print(hms[0])\n",
    "print(seconds[0])"
   ]
  },
  {
   "cell_type": "code",
   "execution_count": 10,
   "id": "2accad11",
   "metadata": {},
   "outputs": [
    {
     "name": "stdout",
     "output_type": "stream",
     "text": [
      "00:00:13\n",
      "['00', '00', '13']\n",
      "7900\n"
     ]
    }
   ],
   "source": [
    "print(only_time[7900])\n",
    "print(hms[7900])\n",
    "print(np.argmin(seconds))"
   ]
  },
  {
   "cell_type": "code",
   "execution_count": 11,
   "id": "bec0e402",
   "metadata": {},
   "outputs": [
    {
     "name": "stdout",
     "output_type": "stream",
     "text": [
      "08/31/21 23:59:58\n",
      "09/01/21 00:00:13\n"
     ]
    }
   ],
   "source": [
    "print(times[7899])\n",
    "\n",
    "print(times[7900])"
   ]
  },
  {
   "cell_type": "markdown",
   "id": "1db617a1",
   "metadata": {},
   "source": [
    "Good to know, we are handling data from two days. Not everything in this file corresponds to the day 8/31/2021"
   ]
  },
  {
   "cell_type": "code",
   "execution_count": 12,
   "id": "179ccf8b",
   "metadata": {},
   "outputs": [],
   "source": [
    "# First challenge, divide everything in 5min time bins, that is in 5*60 = 300 s time bins!\n",
    "def data_5s(json_data):\n",
    "    \n",
    "    times, only_time, hms, seconds = splitting_data(json_data)\n",
    "    \n",
    "    vecs_sec = []\n",
    "    vecs_indices = []\n",
    "\n",
    "    for i in range(288): # Number of 5 min periods in 24 hours\n",
    "        vec_sec = []\n",
    "        vec_indices = []\n",
    "        banner = False\n",
    "\n",
    "        for index_i in range(7900): # len(indices)\n",
    "\n",
    "            if i*300 <= seconds[index_i] and seconds[index_i] < (i+1)*300:\n",
    "                vec_sec.append(seconds[index_i])\n",
    "                vec_indices.append(index_i)\n",
    "                banner = True\n",
    "\n",
    "            elif banner == True:\n",
    "                vecs_sec.append(vec_sec)\n",
    "                vecs_indices.append(vec_indices)\n",
    "                break\n",
    "                \n",
    "    return vecs_sec, vecs_indices"
   ]
  },
  {
   "cell_type": "code",
   "execution_count": 49,
   "id": "b14e5c8d",
   "metadata": {},
   "outputs": [],
   "source": [
    "def obtain_time_series(file_name):\n",
    "    json_data = open_file(file_name)\n",
    "    \n",
    "    times, only_time, hms, seconds = splitting_data(json_data)\n",
    "    # Seconds has the correct x-entries for the heart rate time series\n",
    "    \n",
    "    heart_rate = np.zeros(len(json_data))\n",
    "\n",
    "    for i in range(len(json_data)):\n",
    "        values1 = [json_data[i][k] for k in json_data[i]]\n",
    "        values2 = [values1[1][k] for k in values1[1]]\n",
    "        heart_rate[i] = values2[0]\n",
    "        \n",
    "    return np.asarray(seconds), heart_rate"
   ]
  },
  {
   "cell_type": "code",
   "execution_count": 50,
   "id": "a19a01a6",
   "metadata": {},
   "outputs": [
    {
     "name": "stdout",
     "output_type": "stream",
     "text": [
      "86400\n",
      "86400\n"
     ]
    }
   ],
   "source": [
    "# Magic number, number of seconds in one day \n",
    "print(300*288)\n",
    "print(24*3600)"
   ]
  },
  {
   "cell_type": "code",
   "execution_count": 51,
   "id": "4fa8f34e",
   "metadata": {},
   "outputs": [],
   "source": [
    "# Obtain the heart rate mean of these intervals as well as their standard deviation\n",
    "\n",
    "def obtain_data(file_name):\n",
    "    json_data = open_file(file_name)\n",
    "    \n",
    "    vecs_secs, vecs_indices = data_5s(json_data)\n",
    "    \n",
    "    means  = np.zeros(len(vecs_indices))\n",
    "    stdevs = np.zeros(len(vecs_indices))\n",
    "\n",
    "    for i in range(len(vecs_indices)):\n",
    "        means[i] = np.mean(heart_rate[vecs_indices[i]]) # Wait, when did you define: heart_rate_31_8 ???\n",
    "        stdevs[i] = np.std(heart_rate[vecs_indices[i]])\n",
    "        \n",
    "    return means, stdevs"
   ]
  },
  {
   "cell_type": "code",
   "execution_count": 52,
   "id": "008de452",
   "metadata": {},
   "outputs": [],
   "source": [
    "means_31_8, stdevs_31_8 = obtain_data(\"heart_rate-2021-08-31.json\") # means, stdevs\n",
    "means_01_9, stdevs_01_9 = obtain_data(\"heart_rate-2021-09-01.json\")\n",
    "means_02_9, stdevs_02_9 = obtain_data(\"heart_rate-2021-09-02.json\")\n",
    "\n",
    "seconds_31_8, heart_frequency_31_8 = obtain_time_series(\"heart_rate-2021-08-31.json\")\n",
    "seconds_01_9, heart_frequency_01_9 = obtain_time_series(\"heart_rate-2021-09-01.json\")\n",
    "seconds_02_9, heart_frequency_02_9 = obtain_time_series(\"heart_rate-2021-09-02.json\")"
   ]
  },
  {
   "cell_type": "markdown",
   "id": "473a9bbb",
   "metadata": {},
   "source": [
    "# Why is there a line that crosses from the first point to the last one?\n",
    "\n",
    "Because the time series is in that manner, when it reaches midnight, a new day starts, but the plot just starts back at 0 instead of continuing to hour 25.\n",
    "\n",
    "Maybe you could generate a big array concatenating multiple arrays. And then separating them at 10 in the morning or such. So you can also have complete sleep periods."
   ]
  },
  {
   "cell_type": "code",
   "execution_count": 55,
   "id": "7dab27dc",
   "metadata": {},
   "outputs": [
    {
     "data": {
      "text/plain": [
       "array([18003, 18008, 18023, ..., 17960, 17975, 17990])"
      ]
     },
     "execution_count": 55,
     "metadata": {},
     "output_type": "execute_result"
    }
   ],
   "source": [
    "seconds_31_8"
   ]
  },
  {
   "cell_type": "code",
   "execution_count": 56,
   "id": "ed403149",
   "metadata": {
    "scrolled": true
   },
   "outputs": [
    {
     "data": {
      "image/png": "[encoded data removed]",
      "text/plain": [
       "<Figure size 432x288 with 1 Axes>"
      ]
     },
     "metadata": {
      "needs_background": "light"
     },
     "output_type": "display_data"
    }
   ],
   "source": [
    "plt.plot(seconds_31_8/3600, heart_frequency_31_8, c=\"b\")\n",
    "plt.plot(seconds_01_9/3600, heart_frequency_01_9, c=\"k\")\n",
    "plt.plot(seconds_02_9/3600, heart_frequency_02_9, c=\"r\")\n",
    "plt.xlabel(\"Time [hour]\")\n",
    "plt.ylabel(\"Heart rate [bpm]\")\n",
    "plt.show()"
   ]
  },
  {
   "cell_type": "code",
   "execution_count": 57,
   "id": "e59da375",
   "metadata": {},
   "outputs": [
    {
     "data": {
      "image/png": "[encoded data removed]",
      "text/plain": [
       "<Figure size 432x288 with 1 Axes>"
      ]
     },
     "metadata": {
      "needs_background": "light"
     },
     "output_type": "display_data"
    }
   ],
   "source": [
    "plt.plot(heart_frequency_31_8, c=\"b\")\n",
    "plt.plot(heart_frequency_01_9, c=\"k\")\n",
    "plt.plot(heart_frequency_02_9, c=\"r\")\n",
    "plt.xlabel(\"Time [hour]\")\n",
    "plt.ylabel(\"Heart rate [bpm]\")\n",
    "plt.show()"
   ]
  },
  {
   "cell_type": "code",
   "execution_count": 59,
   "id": "a29f1062",
   "metadata": {},
   "outputs": [],
   "source": [
    "means_31_8, stdevs_31_8 = obtain_data(\"heart_rate-2021-08-31.json\")\n",
    "means_01_9, stdevs_01_9 = obtain_data(\"heart_rate-2021-09-01.json\")\n",
    "means_02_9, stdevs_02_9 = obtain_data(\"heart_rate-2021-09-02.json\")"
   ]
  },
  {
   "cell_type": "code",
   "execution_count": 60,
   "id": "be89a03f",
   "metadata": {},
   "outputs": [
    {
     "data": {
      "image/png": "[encoded data removed]",
      "text/plain": [
       "<Figure size 432x288 with 1 Axes>"
      ]
     },
     "metadata": {
      "needs_background": "light"
     },
     "output_type": "display_data"
    }
   ],
   "source": [
    "plt.scatter(means_31_8, stdevs_31_8, c = \"b\")\n",
    "plt.scatter(means_01_9, stdevs_01_9, c=\"k\")\n",
    "plt.scatter(means_02_9, stdevs_02_9, c=\"r\")\n",
    "plt.xlabel(\"Heart rate\")\n",
    "plt.ylabel(\"Standar deviation\") # Heart rate variability\n",
    "plt.show()"
   ]
  },
  {
   "cell_type": "markdown",
   "id": "40929f1d",
   "metadata": {},
   "source": [
    "Now comes the interesting part, cluster these datapoints!\n",
    "\n",
    "Wait, before the clustering begins, I want to see how the time series looks with the correct time axis. Modify the previous functions accordingly."
   ]
  },
  {
   "cell_type": "code",
   "execution_count": null,
   "id": "81cd815f",
   "metadata": {},
   "outputs": [],
   "source": []
  },
  {
   "cell_type": "code",
   "execution_count": null,
   "id": "4d452583",
   "metadata": {},
   "outputs": [],
   "source": []
  },
  {
   "cell_type": "code",
   "execution_count": null,
   "id": "7d615301",
   "metadata": {},
   "outputs": [],
   "source": []
  },
  {
   "cell_type": "code",
   "execution_count": null,
   "id": "6a9e1e55",
   "metadata": {},
   "outputs": [],
   "source": []
  }
 ],
 "metadata": {
  "kernelspec": {
   "display_name": "Python 3 (ipykernel)",
   "language": "python",
   "name": "python3"
  },
  "language_info": {
   "codemirror_mode": {
    "name": "ipython",
    "version": 3
   },
   "file_extension": ".py",
   "mimetype": "text/x-python",
   "name": "python",
   "nbconvert_exporter": "python",
   "pygments_lexer": "ipython3",
   "version": "3.8.8"
  }
 },
 "nbformat": 4,
 "nbformat_minor": 5
}
